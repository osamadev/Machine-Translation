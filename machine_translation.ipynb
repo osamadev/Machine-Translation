{
 "cells": [
  {
   "cell_type": "markdown",
   "metadata": {
    "collapsed": true
   },
   "source": [
    "# Artificial Intelligence Nanodegree\n",
    "## Machine Translation Project\n",
    "In this notebook, sections that end with **'(IMPLEMENTATION)'** in the header indicate that the following blocks of code will require additional functionality which you must provide. Please be sure to read the instructions carefully!\n",
    "\n",
    "## Introduction\n",
    "In this notebook, you will build a deep neural network that functions as part of an end-to-end machine translation pipeline. Your completed pipeline will accept English text as input and return the French translation.\n",
    "\n",
    "- **Preprocess** - You'll convert text to sequence of integers.\n",
    "- **Models** Create models which accepts a sequence of integers as input and returns a probability distribution over possible translations. After learning about the basic types of neural networks that are often used for machine translation, you will engage in your own investigations, to design your own model!\n",
    "- **Prediction** Run the model on English text."
   ]
  },
  {
   "cell_type": "code",
   "execution_count": 1,
   "metadata": {},
   "outputs": [],
   "source": [
    "%load_ext autoreload\n",
    "%aimport helper, tests\n",
    "%autoreload 1"
   ]
  },
  {
   "cell_type": "code",
   "execution_count": 2,
   "metadata": {},
   "outputs": [
    {
     "name": "stderr",
     "output_type": "stream",
     "text": [
      "Using TensorFlow backend.\n"
     ]
    }
   ],
   "source": [
    "import collections\n",
    "\n",
    "import helper\n",
    "import numpy as np\n",
    "import project_tests as tests\n",
    "\n",
    "from keras.preprocessing.text import Tokenizer\n",
    "from keras.preprocessing.sequence import pad_sequences\n",
    "from keras.models import Model\n",
    "from keras.layers import GRU, Input, Dense, TimeDistributed, Activation, RepeatVector, Bidirectional\n",
    "from keras.layers.embeddings import Embedding\n",
    "from keras.optimizers import Adam\n",
    "from keras.losses import sparse_categorical_crossentropy"
   ]
  },
  {
   "cell_type": "markdown",
   "metadata": {},
   "source": [
    "### Verify access to the GPU\n",
    "The following test applies only if you expect to be using a GPU, e.g., while running in a Udacity Workspace or using an AWS instance with GPU support. Run the next cell, and verify that the device_type is \"GPU\".\n",
    "- If the device is not GPU & you are running from a Udacity Workspace, then save your workspace with the icon at the top, then click \"enable\" at the bottom of the workspace.\n",
    "- If the device is not GPU & you are running from an AWS instance, then refer to the cloud computing instructions in the classroom to verify your setup steps."
   ]
  },
  {
   "cell_type": "code",
   "execution_count": 3,
   "metadata": {},
   "outputs": [
    {
     "name": "stdout",
     "output_type": "stream",
     "text": [
      "[name: \"/cpu:0\"\n",
      "device_type: \"CPU\"\n",
      "memory_limit: 268435456\n",
      "locality {\n",
      "}\n",
      "incarnation: 5629519853509025653\n",
      ", name: \"/gpu:0\"\n",
      "device_type: \"GPU\"\n",
      "memory_limit: 357564416\n",
      "locality {\n",
      "  bus_id: 1\n",
      "}\n",
      "incarnation: 5318206536159849262\n",
      "physical_device_desc: \"device: 0, name: Tesla K80, pci bus id: 0000:00:04.0\"\n",
      "]\n"
     ]
    }
   ],
   "source": [
    "from tensorflow.python.client import device_lib\n",
    "print(device_lib.list_local_devices())"
   ]
  },
  {
   "cell_type": "markdown",
   "metadata": {},
   "source": [
    "## Dataset\n",
    "We begin by investigating the dataset that will be used to train and evaluate your pipeline.  The most common datasets used for machine translation are from [WMT](http://www.statmt.org/).  However, that will take a long time to train a neural network on.  We'll be using a dataset we created for this project that contains a small vocabulary.  You'll be able to train your model in a reasonable time with this dataset.\n",
    "### Load Data\n",
    "The data is located in `data/small_vocab_en` and `data/small_vocab_fr`. The `small_vocab_en` file contains English sentences with their French translations in the `small_vocab_fr` file. Load the English and French data from these files from running the cell below."
   ]
  },
  {
   "cell_type": "code",
   "execution_count": 4,
   "metadata": {},
   "outputs": [
    {
     "name": "stdout",
     "output_type": "stream",
     "text": [
      "Dataset Loaded\n"
     ]
    }
   ],
   "source": [
    "# Load English data\n",
    "english_sentences = helper.load_data('data/small_vocab_en')\n",
    "# Load French data\n",
    "french_sentences = helper.load_data('data/small_vocab_fr')\n",
    "\n",
    "print('Dataset Loaded')"
   ]
  },
  {
   "cell_type": "markdown",
   "metadata": {},
   "source": [
    "### Files\n",
    "Each line in `small_vocab_en` contains an English sentence with the respective translation in each line of `small_vocab_fr`.  View the first two lines from each file."
   ]
  },
  {
   "cell_type": "code",
   "execution_count": 5,
   "metadata": {},
   "outputs": [
    {
     "name": "stdout",
     "output_type": "stream",
     "text": [
      "small_vocab_en Line 1:  new jersey is sometimes quiet during autumn , and it is snowy in april .\n",
      "small_vocab_fr Line 1:  new jersey est parfois calme pendant l' automne , et il est neigeux en avril .\n",
      "small_vocab_en Line 2:  the united states is usually chilly during july , and it is usually freezing in november .\n",
      "small_vocab_fr Line 2:  les états-unis est généralement froid en juillet , et il gèle habituellement en novembre .\n"
     ]
    }
   ],
   "source": [
    "for sample_i in range(2):\n",
    "    print('small_vocab_en Line {}:  {}'.format(sample_i + 1, english_sentences[sample_i]))\n",
    "    print('small_vocab_fr Line {}:  {}'.format(sample_i + 1, french_sentences[sample_i]))"
   ]
  },
  {
   "cell_type": "markdown",
   "metadata": {},
   "source": [
    "From looking at the sentences, you can see they have been preprocessed already.  The puncuations have been delimited using spaces. All the text have been converted to lowercase.  This should save you some time, but the text requires more preprocessing.\n",
    "### Vocabulary\n",
    "The complexity of the problem is determined by the complexity of the vocabulary.  A more complex vocabulary is a more complex problem.  Let's look at the complexity of the dataset we'll be working with."
   ]
  },
  {
   "cell_type": "code",
   "execution_count": 6,
   "metadata": {},
   "outputs": [
    {
     "name": "stdout",
     "output_type": "stream",
     "text": [
      "1823250 English words.\n",
      "227 unique English words.\n",
      "10 Most common words in the English dataset:\n",
      "\"is\" \",\" \".\" \"in\" \"it\" \"during\" \"the\" \"but\" \"and\" \"sometimes\"\n",
      "\n",
      "1961295 French words.\n",
      "355 unique French words.\n",
      "10 Most common words in the French dataset:\n",
      "\"est\" \".\" \",\" \"en\" \"il\" \"les\" \"mais\" \"et\" \"la\" \"parfois\"\n"
     ]
    }
   ],
   "source": [
    "english_words_counter = collections.Counter([word for sentence in english_sentences for word in sentence.split()])\n",
    "french_words_counter = collections.Counter([word for sentence in french_sentences for word in sentence.split()])\n",
    "\n",
    "print('{} English words.'.format(len([word for sentence in english_sentences for word in sentence.split()])))\n",
    "print('{} unique English words.'.format(len(english_words_counter)))\n",
    "print('10 Most common words in the English dataset:')\n",
    "print('\"' + '\" \"'.join(list(zip(*english_words_counter.most_common(10)))[0]) + '\"')\n",
    "print()\n",
    "print('{} French words.'.format(len([word for sentence in french_sentences for word in sentence.split()])))\n",
    "print('{} unique French words.'.format(len(french_words_counter)))\n",
    "print('10 Most common words in the French dataset:')\n",
    "print('\"' + '\" \"'.join(list(zip(*french_words_counter.most_common(10)))[0]) + '\"')"
   ]
  },
  {
   "cell_type": "markdown",
   "metadata": {},
   "source": [
    "For comparison, _Alice's Adventures in Wonderland_ contains 2,766 unique words of a total of 15,500 words.\n",
    "## Preprocess\n",
    "For this project, you won't use text data as input to your model. Instead, you'll convert the text into sequences of integers using the following preprocess methods:\n",
    "1. Tokenize the words into ids\n",
    "2. Add padding to make all the sequences the same length.\n",
    "\n",
    "Time to start preprocessing the data...\n",
    "### Tokenize (IMPLEMENTATION)\n",
    "For a neural network to predict on text data, it first has to be turned into data it can understand. Text data like \"dog\" is a sequence of ASCII character encodings.  Since a neural network is a series of multiplication and addition operations, the input data needs to be number(s).\n",
    "\n",
    "We can turn each character into a number or each word into a number.  These are called character and word ids, respectively.  Character ids are used for character level models that generate text predictions for each character.  A word level model uses word ids that generate text predictions for each word.  Word level models tend to learn better, since they are lower in complexity, so we'll use those.\n",
    "\n",
    "Turn each sentence into a sequence of words ids using Keras's [`Tokenizer`](https://keras.io/preprocessing/text/#tokenizer) function. Use this function to tokenize `english_sentences` and `french_sentences` in the cell below.\n",
    "\n",
    "Running the cell will run `tokenize` on sample data and show output for debugging."
   ]
  },
  {
   "cell_type": "code",
   "execution_count": 7,
   "metadata": {},
   "outputs": [
    {
     "name": "stdout",
     "output_type": "stream",
     "text": [
      "{'the': 1, 'quick': 2, 'a': 3, 'brown': 4, 'fox': 5, 'jumps': 6, 'over': 7, 'lazy': 8, 'dog': 9, 'by': 10, 'jove': 11, 'my': 12, 'study': 13, 'of': 14, 'lexicography': 15, 'won': 16, 'prize': 17, 'this': 18, 'is': 19, 'short': 20, 'sentence': 21}\n",
      "\n",
      "Sequence 1 in x\n",
      "  Input:  The quick brown fox jumps over the lazy dog .\n",
      "  Output: [1, 2, 4, 5, 6, 7, 1, 8, 9]\n",
      "Sequence 2 in x\n",
      "  Input:  By Jove , my quick study of lexicography won a prize .\n",
      "  Output: [10, 11, 12, 2, 13, 14, 15, 16, 3, 17]\n",
      "Sequence 3 in x\n",
      "  Input:  This is a short sentence .\n",
      "  Output: [18, 19, 3, 20, 21]\n"
     ]
    }
   ],
   "source": [
    "def tokenize(x):\n",
    "    \"\"\"\n",
    "    Tokenize x\n",
    "    :param x: List of sentences/strings to be tokenized\n",
    "    :return: Tuple of (tokenized x data, tokenizer used to tokenize x)\n",
    "    \"\"\"\n",
    "    tokenizer = Tokenizer()\n",
    "    tokenizer.fit_on_texts(x)\n",
    "    \n",
    "    return tokenizer.texts_to_sequences(x), tokenizer\n",
    "\n",
    "tests.test_tokenize(tokenize)\n",
    "\n",
    "# Tokenize Example output\n",
    "text_sentences = [\n",
    "    'The quick brown fox jumps over the lazy dog .',\n",
    "    'By Jove , my quick study of lexicography won a prize .',\n",
    "    'This is a short sentence .']\n",
    "text_tokenized, text_tokenizer = tokenize(text_sentences)\n",
    "print(text_tokenizer.word_index)\n",
    "print()\n",
    "for sample_i, (sent, token_sent) in enumerate(zip(text_sentences, text_tokenized)):\n",
    "    print('Sequence {} in x'.format(sample_i + 1))\n",
    "    print('  Input:  {}'.format(sent))\n",
    "    print('  Output: {}'.format(token_sent))\n"
   ]
  },
  {
   "cell_type": "markdown",
   "metadata": {},
   "source": [
    "### Padding (IMPLEMENTATION)\n",
    "When batching the sequence of word ids together, each sequence needs to be the same length.  Since sentences are dynamic in length, we can add padding to the end of the sequences to make them the same length.\n",
    "\n",
    "Make sure all the English sequences have the same length and all the French sequences have the same length by adding padding to the **end** of each sequence using Keras's [`pad_sequences`](https://keras.io/preprocessing/sequence/#pad_sequences) function."
   ]
  },
  {
   "cell_type": "code",
   "execution_count": 8,
   "metadata": {},
   "outputs": [
    {
     "name": "stdout",
     "output_type": "stream",
     "text": [
      "Sequence 1 in x\n",
      "  Input:  [1 2 4 5 6 7 1 8 9]\n",
      "  Output: [1 2 4 5 6 7 1 8 9 0]\n",
      "Sequence 2 in x\n",
      "  Input:  [10 11 12  2 13 14 15 16  3 17]\n",
      "  Output: [10 11 12  2 13 14 15 16  3 17]\n",
      "Sequence 3 in x\n",
      "  Input:  [18 19  3 20 21]\n",
      "  Output: [18 19  3 20 21  0  0  0  0  0]\n"
     ]
    }
   ],
   "source": [
    "def pad(x, length=None):\n",
    "    \"\"\"\n",
    "    Pad x\n",
    "    :param x: List of sequences.\n",
    "    :param length: Length to pad the sequence to.  If None, use length of longest sequence in x.\n",
    "    :return: Padded numpy array of sequences\n",
    "    \"\"\"\n",
    "    # TODO: Implement\n",
    "    if length is None:\n",
    "        length = max([len(seq) for seq in x])\n",
    "        \n",
    "    padded_sequences = pad_sequences(x, maxlen=length, padding='post')\n",
    "    \n",
    "    return padded_sequences\n",
    "\n",
    "tests.test_pad(pad)\n",
    "\n",
    "# Pad Tokenized output\n",
    "test_pad = pad(text_tokenized)\n",
    "for sample_i, (token_sent, pad_sent) in enumerate(zip(text_tokenized, test_pad)):\n",
    "    print('Sequence {} in x'.format(sample_i + 1))\n",
    "    print('  Input:  {}'.format(np.array(token_sent)))\n",
    "    print('  Output: {}'.format(pad_sent))"
   ]
  },
  {
   "cell_type": "markdown",
   "metadata": {},
   "source": [
    "### Preprocess Pipeline\n",
    "Your focus for this project is to build neural network architecture, so we won't ask you to create a preprocess pipeline.  Instead, we've provided you with the implementation of the `preprocess` function."
   ]
  },
  {
   "cell_type": "code",
   "execution_count": 9,
   "metadata": {},
   "outputs": [
    {
     "name": "stdout",
     "output_type": "stream",
     "text": [
      "Data Preprocessed\n",
      "Max English sentence length: 15\n",
      "Max French sentence length: 21\n",
      "English vocabulary size: 199\n",
      "French vocabulary size: 344\n"
     ]
    }
   ],
   "source": [
    "def preprocess(x, y):\n",
    "    \"\"\"\n",
    "    Preprocess x and y\n",
    "    :param x: Feature List of sentences\n",
    "    :param y: Label List of sentences\n",
    "    :return: Tuple of (Preprocessed x, Preprocessed y, x tokenizer, y tokenizer)\n",
    "    \"\"\"\n",
    "    preprocess_x, x_tk = tokenize(x)\n",
    "    preprocess_y, y_tk = tokenize(y)\n",
    "\n",
    "    preprocess_x = pad(preprocess_x)\n",
    "    preprocess_y = pad(preprocess_y)\n",
    "\n",
    "    # Keras's sparse_categorical_crossentropy function requires the labels to be in 3 dimensions\n",
    "    preprocess_y = preprocess_y.reshape(*preprocess_y.shape, 1)\n",
    "\n",
    "    return preprocess_x, preprocess_y, x_tk, y_tk\n",
    "\n",
    "preproc_english_sentences, preproc_french_sentences, english_tokenizer, french_tokenizer =\\\n",
    "    preprocess(english_sentences, french_sentences)\n",
    "    \n",
    "max_english_sequence_length = preproc_english_sentences.shape[1]\n",
    "max_french_sequence_length = preproc_french_sentences.shape[1]\n",
    "english_vocab_size = len(english_tokenizer.word_index)\n",
    "french_vocab_size = len(french_tokenizer.word_index)\n",
    "\n",
    "print('Data Preprocessed')\n",
    "print(\"Max English sentence length:\", max_english_sequence_length)\n",
    "print(\"Max French sentence length:\", max_french_sequence_length)\n",
    "print(\"English vocabulary size:\", english_vocab_size)\n",
    "print(\"French vocabulary size:\", french_vocab_size)"
   ]
  },
  {
   "cell_type": "markdown",
   "metadata": {},
   "source": [
    "## Models\n",
    "In this section, you will experiment with various neural network architectures.\n",
    "You will begin by training four relatively simple architectures.\n",
    "- Model 1 is a simple RNN\n",
    "- Model 2 is a RNN with Embedding\n",
    "- Model 3 is a Bidirectional RNN\n",
    "- Model 4 is an optional Encoder-Decoder RNN\n",
    "\n",
    "After experimenting with the four simple architectures, you will construct a deeper architecture that is designed to outperform all four models.\n",
    "### Ids Back to Text\n",
    "The neural network will be translating the input to words ids, which isn't the final form we want.  We want the French translation.  The function `logits_to_text` will bridge the gab between the logits from the neural network to the French translation.  You'll be using this function to better understand the output of the neural network."
   ]
  },
  {
   "cell_type": "code",
   "execution_count": 10,
   "metadata": {},
   "outputs": [
    {
     "name": "stdout",
     "output_type": "stream",
     "text": [
      "`logits_to_text` function loaded.\n"
     ]
    }
   ],
   "source": [
    "def logits_to_text(logits, tokenizer):\n",
    "    \"\"\"\n",
    "    Turn logits from a neural network into text using the tokenizer\n",
    "    :param logits: Logits from a neural network\n",
    "    :param tokenizer: Keras Tokenizer fit on the labels\n",
    "    :return: String that represents the text of the logits\n",
    "    \"\"\"\n",
    "    index_to_words = {id: word for word, id in tokenizer.word_index.items()}\n",
    "    index_to_words[0] = '<PAD>'\n",
    "\n",
    "    return ' '.join([index_to_words[prediction] for prediction in np.argmax(logits, 1)])\n",
    "\n",
    "print('`logits_to_text` function loaded.')"
   ]
  },
  {
   "cell_type": "markdown",
   "metadata": {},
   "source": [
    "### Model 1: RNN (IMPLEMENTATION)\n",
    "![RNN](images/rnn.png)\n",
    "A basic RNN model is a good baseline for sequence data.  In this model, you'll build a RNN that translates English to French."
   ]
  },
  {
   "cell_type": "code",
   "execution_count": 13,
   "metadata": {},
   "outputs": [
    {
     "name": "stdout",
     "output_type": "stream",
     "text": [
      "Train on 110288 samples, validate on 27573 samples\n",
      "Epoch 1/20\n",
      "110288/110288 [==============================] - 30s 272us/step - loss: 1.1353 - acc: 0.6568 - val_loss: 0.9694 - val_acc: 0.6827\n",
      "Epoch 2/20\n",
      "110288/110288 [==============================] - 29s 267us/step - loss: 0.8733 - acc: 0.7091 - val_loss: 0.8187 - val_acc: 0.7215\n",
      "Epoch 3/20\n",
      "110288/110288 [==============================] - 29s 266us/step - loss: 0.7876 - acc: 0.7353 - val_loss: 0.7513 - val_acc: 0.7476\n",
      "Epoch 4/20\n",
      "110288/110288 [==============================] - 29s 265us/step - loss: 0.7506 - acc: 0.7466 - val_loss: 0.7582 - val_acc: 0.7484\n",
      "Epoch 5/20\n",
      "110288/110288 [==============================] - 29s 265us/step - loss: 0.7162 - acc: 0.7597 - val_loss: 0.6593 - val_acc: 0.7879\n",
      "Epoch 6/20\n",
      "110288/110288 [==============================] - 29s 267us/step - loss: 0.6726 - acc: 0.7750 - val_loss: 0.6776 - val_acc: 0.7794\n",
      "Epoch 7/20\n",
      "110288/110288 [==============================] - 29s 265us/step - loss: 0.6752 - acc: 0.7735 - val_loss: 0.6147 - val_acc: 0.7938\n",
      "Epoch 8/20\n",
      "110288/110288 [==============================] - 29s 265us/step - loss: 0.6826 - acc: 0.7692 - val_loss: 0.7873 - val_acc: 0.7358\n",
      "Epoch 9/20\n",
      "110288/110288 [==============================] - 29s 265us/step - loss: 0.6471 - acc: 0.7835 - val_loss: 0.6924 - val_acc: 0.7594\n",
      "Epoch 10/20\n",
      "110288/110288 [==============================] - 29s 265us/step - loss: 0.6444 - acc: 0.7845 - val_loss: 0.6745 - val_acc: 0.7742\n",
      "Epoch 11/20\n",
      "110288/110288 [==============================] - 29s 265us/step - loss: 0.6473 - acc: 0.7842 - val_loss: 0.5925 - val_acc: 0.8014\n",
      "Epoch 12/20\n",
      "110288/110288 [==============================] - 29s 265us/step - loss: 0.6686 - acc: 0.7776 - val_loss: 0.6040 - val_acc: 0.7970\n",
      "Epoch 13/20\n",
      "110288/110288 [==============================] - 29s 264us/step - loss: 0.6512 - acc: 0.7806 - val_loss: 0.6273 - val_acc: 0.7927\n",
      "Epoch 14/20\n",
      "110288/110288 [==============================] - 29s 265us/step - loss: 0.6695 - acc: 0.7759 - val_loss: 0.6496 - val_acc: 0.7873\n",
      "Epoch 15/20\n",
      "110288/110288 [==============================] - 29s 264us/step - loss: 0.6589 - acc: 0.7816 - val_loss: 0.6619 - val_acc: 0.7834\n",
      "Epoch 16/20\n",
      "110288/110288 [==============================] - 29s 265us/step - loss: 0.7019 - acc: 0.7675 - val_loss: 0.6846 - val_acc: 0.7695\n",
      "Epoch 17/20\n",
      "110288/110288 [==============================] - 29s 265us/step - loss: 0.7257 - acc: 0.7525 - val_loss: 0.6981 - val_acc: 0.7481\n",
      "Epoch 18/20\n",
      "110288/110288 [==============================] - 29s 264us/step - loss: 0.7037 - acc: 0.7597 - val_loss: 0.7769 - val_acc: 0.7276\n",
      "Epoch 19/20\n",
      "110288/110288 [==============================] - 29s 265us/step - loss: 0.8137 - acc: 0.7415 - val_loss: 0.8210 - val_acc: 0.7452\n",
      "Epoch 20/20\n",
      "110288/110288 [==============================] - 29s 265us/step - loss: 0.8356 - acc: 0.7480 - val_loss: 0.8202 - val_acc: 0.7512\n",
      "l' jersey est parfois calme en automne et il est neigeux neigeux neigeux <PAD> <PAD> <PAD> <PAD> <PAD> <PAD> <PAD> <PAD>\n"
     ]
    }
   ],
   "source": [
    "def simple_model(input_shape, output_sequence_length, english_vocab_size, french_vocab_size):\n",
    "    \"\"\"\n",
    "    Build and train a basic RNN on x and y\n",
    "    :param input_shape: Tuple of input shape\n",
    "    :param output_sequence_length: Length of output sequence\n",
    "    :param english_vocab_size: Number of unique English words in the dataset\n",
    "    :param french_vocab_size: Number of unique French words in the dataset\n",
    "    :return: Keras model built, but not trained\n",
    "    \"\"\"\n",
    "    # TODO: Build the layers\n",
    "    learning_rate = 1e-2\n",
    "    inputs = Input(preproc_french_sentences.shape[1:])\n",
    "    \n",
    "    gru_output = GRU(256, return_sequences=True)(inputs)\n",
    "    \n",
    "    logits_output = TimeDistributed(Dense(french_vocab_size))(gru_output)\n",
    "    \n",
    "    model = Model(inputs, Activation('softmax')(logits_output))\n",
    "    \n",
    "    model.compile(loss=sparse_categorical_crossentropy,\n",
    "                  optimizer=Adam(learning_rate),\n",
    "                  metrics=['accuracy'])\n",
    "    return model\n",
    "\n",
    "tests.test_simple_model(simple_model)\n",
    "\n",
    "# Reshaping the input to work with a basic RNN\n",
    "tmp_x = pad(preproc_english_sentences, max_french_sequence_length)\n",
    "tmp_x = tmp_x.reshape((-1, preproc_french_sentences.shape[-2], 1))\n",
    "\n",
    "# Train the neural network\n",
    "simple_rnn_model = simple_model(\n",
    "    tmp_x.shape,\n",
    "    max_french_sequence_length,\n",
    "    english_vocab_size,\n",
    "    french_vocab_size+1)\n",
    "\n",
    "simple_rnn_model.fit(tmp_x, preproc_french_sentences, batch_size=128, epochs=20, validation_split=0.2)\n",
    "\n",
    "# Print prediction(s) on a sample English sentence\n",
    "print(logits_to_text(simple_rnn_model.predict(tmp_x[:1])[0], french_tokenizer))"
   ]
  },
  {
   "cell_type": "code",
   "execution_count": 44,
   "metadata": {},
   "outputs": [
    {
     "name": "stdout",
     "output_type": "stream",
     "text": [
      "English Setntence:  new jersey is sometimes quiet during autumn and it is snowy in april\n",
      "French Translation:  l' jersey est parfois calme en automne et il est neigeux neigeux neigeux <PAD> <PAD> <PAD> <PAD> <PAD> <PAD> <PAD> <PAD>\n"
     ]
    }
   ],
   "source": [
    "idx_to_word_dict = {idx:word for word, idx in english_tokenizer.word_index.items()}\n",
    "\n",
    "sample_english_sentence = ' '.join([idx_to_word_dict.get(idx.item()) for idx in (tmp_x[:1])[0] if \n",
    "                                    idx_to_word_dict.get(idx.item()) != None])\n",
    "\n",
    "print(\"English Setntence: \", sample_english_sentence)\n",
    "\n",
    "# Print prediction(s) on a sample English sentence\n",
    "print(\"French Translation: \", logits_to_text(simple_rnn_model.predict(tmp_x[:1])[0], french_tokenizer))"
   ]
  },
  {
   "cell_type": "markdown",
   "metadata": {},
   "source": [
    "### Model 2: Embedding (IMPLEMENTATION)\n",
    "![RNN](images/embedding.png)\n",
    "You've turned the words into ids, but there's a better representation of a word.  This is called word embeddings.  An embedding is a vector representation of the word that is close to similar words in n-dimensional space, where the n represents the size of the embedding vectors.\n",
    "\n",
    "In this model, you'll create a RNN model using embedding."
   ]
  },
  {
   "cell_type": "code",
   "execution_count": 12,
   "metadata": {},
   "outputs": [
    {
     "name": "stdout",
     "output_type": "stream",
     "text": [
      "(?, 21, 128)\n",
      "(?, 21, 128)\n",
      "_________________________________________________________________\n",
      "Layer (type)                 Output Shape              Param #   \n",
      "=================================================================\n",
      "input_layer (InputLayer)     (None, 21)                0         \n",
      "_________________________________________________________________\n",
      "embedding (Embedding)        (None, 21, 128)           25472     \n",
      "_________________________________________________________________\n",
      "GRU (GRU)                    (None, 21, 128)           98688     \n",
      "_________________________________________________________________\n",
      "time_distributed_4 (TimeDist (None, 21, 344)           44376     \n",
      "=================================================================\n",
      "Total params: 168,536\n",
      "Trainable params: 168,536\n",
      "Non-trainable params: 0\n",
      "_________________________________________________________________\n",
      "Train on 110288 samples, validate on 27573 samples\n",
      "Epoch 1/20\n",
      "110288/110288 [==============================] - 11s 100us/step - loss: 2.8015 - acc: 0.4681 - val_loss: nan - val_acc: 0.6189\n",
      "Epoch 2/20\n",
      "110288/110288 [==============================] - 11s 97us/step - loss: 1.1801 - acc: 0.7167 - val_loss: nan - val_acc: 0.7768\n",
      "Epoch 3/20\n",
      "110288/110288 [==============================] - 11s 97us/step - loss: 0.7357 - acc: 0.8029 - val_loss: nan - val_acc: 0.8284\n",
      "Epoch 4/20\n",
      "110288/110288 [==============================] - 11s 97us/step - loss: 0.5527 - acc: 0.8403 - val_loss: nan - val_acc: 0.8392\n",
      "Epoch 5/20\n",
      "110288/110288 [==============================] - 11s 97us/step - loss: 0.4522 - acc: 0.8659 - val_loss: nan - val_acc: 0.8746\n",
      "Epoch 6/20\n",
      "110288/110288 [==============================] - 11s 97us/step - loss: 0.3882 - acc: 0.8827 - val_loss: nan - val_acc: 0.8901\n",
      "Epoch 7/20\n",
      "110288/110288 [==============================] - 11s 97us/step - loss: 0.3452 - acc: 0.8935 - val_loss: nan - val_acc: 0.8978\n",
      "Epoch 8/20\n",
      "110288/110288 [==============================] - 11s 97us/step - loss: 0.3154 - acc: 0.9016 - val_loss: nan - val_acc: 0.9039\n",
      "Epoch 9/20\n",
      "110288/110288 [==============================] - 11s 97us/step - loss: 0.2914 - acc: 0.9080 - val_loss: nan - val_acc: 0.9101\n",
      "Epoch 10/20\n",
      "110288/110288 [==============================] - 11s 97us/step - loss: 0.2754 - acc: 0.9123 - val_loss: nan - val_acc: 0.9146\n",
      "Epoch 11/20\n",
      "110288/110288 [==============================] - 11s 97us/step - loss: 0.2600 - acc: 0.9164 - val_loss: nan - val_acc: 0.9171\n",
      "Epoch 12/20\n",
      "110288/110288 [==============================] - 11s 97us/step - loss: 0.2484 - acc: 0.9196 - val_loss: nan - val_acc: 0.9201\n",
      "Epoch 13/20\n",
      "110288/110288 [==============================] - 11s 97us/step - loss: 0.2394 - acc: 0.9218 - val_loss: nan - val_acc: 0.9215\n",
      "Epoch 14/20\n",
      "110288/110288 [==============================] - 11s 97us/step - loss: 0.2313 - acc: 0.9241 - val_loss: nan - val_acc: 0.9232\n",
      "Epoch 15/20\n",
      "110288/110288 [==============================] - 11s 97us/step - loss: 0.2244 - acc: 0.9258 - val_loss: nan - val_acc: 0.9256\n",
      "Epoch 16/20\n",
      "110288/110288 [==============================] - 11s 97us/step - loss: 0.2182 - acc: 0.9275 - val_loss: nan - val_acc: 0.9264\n",
      "Epoch 17/20\n",
      "110288/110288 [==============================] - 11s 97us/step - loss: 0.2127 - acc: 0.9291 - val_loss: nan - val_acc: 0.9267\n",
      "Epoch 18/20\n",
      "110288/110288 [==============================] - 11s 97us/step - loss: 0.2087 - acc: 0.9300 - val_loss: nan - val_acc: 0.9285\n",
      "Epoch 19/20\n",
      "110288/110288 [==============================] - 11s 97us/step - loss: 0.2059 - acc: 0.9306 - val_loss: nan - val_acc: 0.9292\n",
      "Epoch 20/20\n",
      "110288/110288 [==============================] - 11s 97us/step - loss: 0.2008 - acc: 0.9319 - val_loss: nan - val_acc: 0.9300\n",
      "new jersey est parfois calme en l' automne et il est neigeux en avril <PAD> <PAD> <PAD> <PAD> <PAD> <PAD> <PAD>\n"
     ]
    }
   ],
   "source": [
    "import tensorflow as tf\n",
    "\n",
    "def embed_model(input_shape, output_sequence_length, english_vocab_size, french_vocab_size):\n",
    "    \"\"\"\n",
    "    Build and train a RNN model using word embedding on x and y\n",
    "    :param input_shape: Tuple of input shape\n",
    "    :param output_sequence_length: Length of output sequence\n",
    "    :param english_vocab_size: Number of unique English words in the dataset\n",
    "    :param french_vocab_size: Number of unique French words in the dataset\n",
    "    :return: Keras model built, but not trained\n",
    "    \"\"\"\n",
    "    \n",
    "    # TODO: Implement\n",
    "\n",
    "    learning_rate = 1e-3\n",
    "    inputs = Input(shape=input_shape[1:], name=\"input_layer\")\n",
    "    embeeding_layer = Embedding(english_vocab_size, 128, input_length=output_sequence_length, name=\"embedding\")\n",
    "    \n",
    "    embedding_output = embeeding_layer(inputs)\n",
    "    print(embedding_output.shape)\n",
    "    gru_output = GRU(128, return_sequences=True, name=\"GRU\")(embedding_output)\n",
    "    \n",
    "    output = TimeDistributed(Dense(french_vocab_size, activation=\"softmax\", name=\"Dense\"))(gru_output)\n",
    "    \n",
    "    model = Model(inputs, output)\n",
    "    \n",
    "    model.compile(loss=sparse_categorical_crossentropy,\n",
    "                  optimizer=Adam(learning_rate),\n",
    "                  metrics=['accuracy'])\n",
    "    \n",
    "    return model\n",
    "\n",
    "\n",
    "tests.test_embed_model(embed_model)\n",
    "\n",
    "# TODO: Reshape the input\n",
    "tmp_x = pad(preproc_english_sentences, max_french_sequence_length)\n",
    "tmp_x = tmp_x.reshape((-1, preproc_french_sentences.shape[-2]))\n",
    "\n",
    "# Train the neural network\n",
    "embed_model = embed_model(\n",
    "    tmp_x.shape,\n",
    "    max_french_sequence_length,\n",
    "    english_vocab_size,\n",
    "    french_vocab_size)\n",
    "\n",
    "embed_model.summary()\n",
    "\n",
    "embed_model.fit(tmp_x, preproc_french_sentences, batch_size=512, epochs=20, validation_split=0.2)\n",
    "\n",
    "# Print prediction(s)\n",
    "print(logits_to_text(embed_model.predict(tmp_x[:1])[0], french_tokenizer))"
   ]
  },
  {
   "cell_type": "markdown",
   "metadata": {},
   "source": [
    "### Model 3: Bidirectional RNNs (IMPLEMENTATION)\n",
    "![RNN](images/bidirectional.png)\n",
    "One restriction of a RNN is that it can't see the future input, only the past.  This is where bidirectional recurrent neural networks come in.  They are able to see the future data."
   ]
  },
  {
   "cell_type": "code",
   "execution_count": 13,
   "metadata": {},
   "outputs": [
    {
     "name": "stdout",
     "output_type": "stream",
     "text": [
      "(137861, 21, 1)\n",
      "(137861, 21, 1)\n",
      "_________________________________________________________________\n",
      "Layer (type)                 Output Shape              Param #   \n",
      "=================================================================\n",
      "input_layer (InputLayer)     (None, 21, 1)             0         \n",
      "_________________________________________________________________\n",
      "bidirectional_2 (Bidirection (None, 21, 42)            2898      \n",
      "_________________________________________________________________\n",
      "time_distributed_6 (TimeDist (None, 21, 344)           14792     \n",
      "=================================================================\n",
      "Total params: 17,690\n",
      "Trainable params: 17,690\n",
      "Non-trainable params: 0\n",
      "_________________________________________________________________\n",
      "Train on 110288 samples, validate on 27573 samples\n",
      "Epoch 1/10\n",
      "110288/110288 [==============================] - 14s 131us/step - loss: 3.4735 - acc: 0.4448 - val_loss: nan - val_acc: 0.4842\n",
      "Epoch 2/10\n",
      "110288/110288 [==============================] - 14s 127us/step - loss: 2.2809 - acc: 0.4972 - val_loss: nan - val_acc: 0.5163\n",
      "Epoch 3/10\n",
      "110288/110288 [==============================] - 14s 125us/step - loss: 2.0371 - acc: 0.5304 - val_loss: nan - val_acc: 0.5397\n",
      "Epoch 4/10\n",
      "110288/110288 [==============================] - 14s 124us/step - loss: 1.8369 - acc: 0.5616 - val_loss: nan - val_acc: 0.5844\n",
      "Epoch 5/10\n",
      "110288/110288 [==============================] - 14s 125us/step - loss: 1.6758 - acc: 0.5906 - val_loss: nan - val_acc: 0.5964\n",
      "Epoch 6/10\n",
      "110288/110288 [==============================] - 14s 125us/step - loss: 1.5797 - acc: 0.5982 - val_loss: nan - val_acc: 0.6018\n",
      "Epoch 7/10\n",
      "110288/110288 [==============================] - 14s 125us/step - loss: 1.5194 - acc: 0.6042 - val_loss: nan - val_acc: 0.6110\n",
      "Epoch 8/10\n",
      "110288/110288 [==============================] - 14s 125us/step - loss: 1.4703 - acc: 0.6150 - val_loss: nan - val_acc: 0.6226\n",
      "Epoch 9/10\n",
      "110288/110288 [==============================] - 14s 125us/step - loss: 1.4280 - acc: 0.6258 - val_loss: nan - val_acc: 0.6328\n",
      "Epoch 10/10\n",
      "110288/110288 [==============================] - 14s 125us/step - loss: 1.3929 - acc: 0.6339 - val_loss: nan - val_acc: 0.6370\n",
      "new jersey est parfois parfois en en et il est il en en <PAD> <PAD> <PAD> <PAD> <PAD> <PAD> <PAD> <PAD>\n"
     ]
    }
   ],
   "source": [
    "def bd_model(input_shape, output_sequence_length, english_vocab_size, french_vocab_size):\n",
    "    \"\"\"\n",
    "    Build and train a bidirectional RNN model on x and y\n",
    "    :param input_shape: Tuple of input shape\n",
    "    :param output_sequence_length: Length of output sequence\n",
    "    :param english_vocab_size: Number of unique English words in the dataset\n",
    "    :param french_vocab_size: Number of unique French words in the dataset\n",
    "    :return: Keras model built, but not trained\n",
    "    \"\"\"\n",
    "    # TODO: Implement\n",
    "    learning_rate = 1e-3\n",
    "    print(input_shape)\n",
    "    inputs = Input(shape=input_shape[1:], name=\"input_layer\")\n",
    "    gru_layer = GRU(output_sequence_length, return_sequences=True, name=\"GRU\")\n",
    "    gru_output = Bidirectional(gru_layer)(inputs)\n",
    "    \n",
    "    output = TimeDistributed(Dense(french_vocab_size, activation=\"softmax\", name=\"Dense\"))(gru_output)\n",
    "    \n",
    "    model = Model(inputs, output)\n",
    "    \n",
    "    model.compile(loss=sparse_categorical_crossentropy,\n",
    "                  optimizer=Adam(learning_rate),\n",
    "                  metrics=['accuracy'])\n",
    "    \n",
    "    return model\n",
    "\n",
    "tests.test_bd_model(bd_model)\n",
    "\n",
    "# TODO: Reshape the input\n",
    "tmp_x = pad(preproc_english_sentences, max_french_sequence_length)\n",
    "tmp_x = tmp_x.reshape((-1, preproc_french_sentences.shape[-2], 1))\n",
    "\n",
    "# Train the neural network\n",
    "bd_model = bd_model(\n",
    "    tmp_x.shape,\n",
    "    max_french_sequence_length,\n",
    "    english_vocab_size,\n",
    "    french_vocab_size)\n",
    "\n",
    "bd_model.summary()\n",
    "\n",
    "bd_model.fit(tmp_x, preproc_french_sentences, batch_size=512, epochs=10, validation_split=0.2)\n",
    "\n",
    "# Print prediction(s)\n",
    "print(logits_to_text(bd_model.predict(tmp_x[:1])[0], french_tokenizer))"
   ]
  },
  {
   "cell_type": "markdown",
   "metadata": {},
   "source": [
    "### Model 4: Encoder-Decoder (OPTIONAL)\n",
    "Time to look at encoder-decoder models.  This model is made up of an encoder and decoder. The encoder creates a matrix representation of the sentence.  The decoder takes this matrix as input and predicts the translation as output.\n",
    "\n",
    "Create an encoder-decoder model in the cell below."
   ]
  },
  {
   "cell_type": "code",
   "execution_count": 14,
   "metadata": {},
   "outputs": [
    {
     "name": "stdout",
     "output_type": "stream",
     "text": [
      "_________________________________________________________________\n",
      "Layer (type)                 Output Shape              Param #   \n",
      "=================================================================\n",
      "input_layer (InputLayer)     (None, 21)                0         \n",
      "_________________________________________________________________\n",
      "embedding (Embedding)        (None, 21, 128)           25472     \n",
      "_________________________________________________________________\n",
      "GRU_encoder (GRU)            [(None, 21, 128), (None,  98688     \n",
      "_________________________________________________________________\n",
      "GRU_decoder (GRU)            (None, 21, 128)           98688     \n",
      "_________________________________________________________________\n",
      "time_distributed_7 (TimeDist (None, 21, 344)           44376     \n",
      "=================================================================\n",
      "Total params: 267,224\n",
      "Trainable params: 267,224\n",
      "Non-trainable params: 0\n",
      "_________________________________________________________________\n",
      "Train on 110288 samples, validate on 27573 samples\n",
      "Epoch 1/20\n",
      "110288/110288 [==============================] - 14s 126us/step - loss: 3.1964 - acc: 0.4227 - val_loss: nan - val_acc: 0.4759\n",
      "Epoch 2/20\n",
      "110288/110288 [==============================] - 13s 120us/step - loss: 2.1244 - acc: 0.5296 - val_loss: nan - val_acc: 0.6157\n",
      "Epoch 3/20\n",
      "110288/110288 [==============================] - 13s 120us/step - loss: 1.3842 - acc: 0.6660 - val_loss: nan - val_acc: 0.7093\n",
      "Epoch 4/20\n",
      "110288/110288 [==============================] - 13s 121us/step - loss: 1.0567 - acc: 0.7358 - val_loss: nan - val_acc: 0.7624\n",
      "Epoch 5/20\n",
      "110288/110288 [==============================] - 13s 120us/step - loss: 0.8478 - acc: 0.7830 - val_loss: nan - val_acc: 0.8017\n",
      "Epoch 6/20\n",
      "110288/110288 [==============================] - 13s 120us/step - loss: 0.6948 - acc: 0.8181 - val_loss: nan - val_acc: 0.8332\n",
      "Epoch 7/20\n",
      "110288/110288 [==============================] - 13s 120us/step - loss: 0.5848 - acc: 0.8421 - val_loss: nan - val_acc: 0.8507\n",
      "Epoch 8/20\n",
      "110288/110288 [==============================] - 13s 121us/step - loss: 0.5069 - acc: 0.8589 - val_loss: nan - val_acc: 0.8659\n",
      "Epoch 9/20\n",
      "110288/110288 [==============================] - 13s 121us/step - loss: 0.4440 - acc: 0.8734 - val_loss: nan - val_acc: 0.8803\n",
      "Epoch 10/20\n",
      "110288/110288 [==============================] - 13s 120us/step - loss: 0.3980 - acc: 0.8844 - val_loss: nan - val_acc: 0.8875\n",
      "Epoch 11/20\n",
      "110288/110288 [==============================] - 13s 121us/step - loss: 0.3608 - acc: 0.8939 - val_loss: nan - val_acc: 0.8954\n",
      "Epoch 12/20\n",
      "110288/110288 [==============================] - 13s 121us/step - loss: 0.3338 - acc: 0.9005 - val_loss: nan - val_acc: 0.9029\n",
      "Epoch 13/20\n",
      "110288/110288 [==============================] - 13s 121us/step - loss: 0.3107 - acc: 0.9065 - val_loss: nan - val_acc: 0.9059\n",
      "Epoch 14/20\n",
      "110288/110288 [==============================] - 13s 121us/step - loss: 0.2933 - acc: 0.9108 - val_loss: nan - val_acc: 0.9132\n",
      "Epoch 15/20\n",
      "110288/110288 [==============================] - 13s 121us/step - loss: 0.2785 - acc: 0.9144 - val_loss: nan - val_acc: 0.9159\n",
      "Epoch 16/20\n",
      "110288/110288 [==============================] - 13s 120us/step - loss: 0.2663 - acc: 0.9173 - val_loss: nan - val_acc: 0.9189\n",
      "Epoch 17/20\n",
      "110288/110288 [==============================] - 13s 121us/step - loss: 0.2561 - acc: 0.9198 - val_loss: nan - val_acc: 0.9200\n",
      "Epoch 18/20\n",
      "110288/110288 [==============================] - 13s 121us/step - loss: 0.2465 - acc: 0.9221 - val_loss: nan - val_acc: 0.9225\n",
      "Epoch 19/20\n",
      "110288/110288 [==============================] - 13s 120us/step - loss: 0.2405 - acc: 0.9234 - val_loss: nan - val_acc: 0.9234\n",
      "Epoch 20/20\n",
      "110288/110288 [==============================] - 13s 121us/step - loss: 0.2317 - acc: 0.9256 - val_loss: nan - val_acc: 0.9245\n",
      "new jersey est parfois calme en l' automne et il est neigeux en avril <PAD> <PAD> <PAD> <PAD> <PAD> <PAD> <PAD>\n"
     ]
    }
   ],
   "source": [
    "def encdec_model(input_shape, output_sequence_length, english_vocab_size, french_vocab_size):\n",
    "    \"\"\"\n",
    "    Build and train an encoder-decoder model on x and y\n",
    "    :param input_shape: Tuple of input shape\n",
    "    :param output_sequence_length: Length of output sequence\n",
    "    :param english_vocab_size: Number of unique English words in the dataset\n",
    "    :param french_vocab_size: Number of unique French words in the dataset\n",
    "    :return: Keras model built, but not trained\n",
    "    \"\"\"\n",
    "    # OPTIONAL: Implement\n",
    "    learning_rate = 1e-3\n",
    "    \n",
    "    enc_inputs = Input(shape=input_shape[1:], name=\"input_layer\")\n",
    "    embeeding_layer = Embedding(english_vocab_size, 128, input_length=output_sequence_length, name=\"embedding\")\n",
    "    \n",
    "    embedding_output = embeeding_layer(enc_inputs)\n",
    "    enc_gru_layer = GRU(128, return_sequences=True, name=\"GRU_encoder\", return_state=True)\n",
    "    enc_gru_output, _ = enc_gru_layer(embedding_output)\n",
    "    \n",
    "    dec_gru_layer = GRU(128, return_sequences=True, name=\"GRU_decoder\")\n",
    "    dec_gru_output = dec_gru_layer(enc_gru_output)\n",
    "    \n",
    "    dec_output = TimeDistributed(Dense(french_vocab_size, activation=\"softmax\", name=\"Dense\"))(dec_gru_output)\n",
    "    \n",
    "    encdec_model = Model(enc_inputs, dec_output)\n",
    "    \n",
    "    encdec_model.compile(loss=sparse_categorical_crossentropy,\n",
    "                  optimizer=Adam(learning_rate),\n",
    "                  metrics=['accuracy'])\n",
    "    \n",
    "    return encdec_model\n",
    "\n",
    "tests.test_encdec_model(encdec_model)\n",
    "\n",
    "\n",
    "# OPTIONAL: Train and Print prediction(s)\n",
    "\n",
    "# TODO: Reshape the input\n",
    "tmp_x = pad(preproc_english_sentences, max_french_sequence_length)\n",
    "tmp_x = tmp_x.reshape((-1, preproc_french_sentences.shape[-2]))\n",
    "\n",
    "# Train the neural network\n",
    "model_encdec = encdec_model(\n",
    "    tmp_x.shape,\n",
    "    max_french_sequence_length,\n",
    "    english_vocab_size,\n",
    "    french_vocab_size)\n",
    "\n",
    "model_encdec.summary()\n",
    "\n",
    "model_encdec.fit(tmp_x, preproc_french_sentences, batch_size=1024, epochs=20, validation_split=0.2)\n",
    "\n",
    "# Print prediction(s)\n",
    "print(logits_to_text(model_encdec.predict(tmp_x[:1])[0], french_tokenizer))"
   ]
  },
  {
   "cell_type": "markdown",
   "metadata": {},
   "source": [
    "### Model 5: Custom (IMPLEMENTATION)\n",
    "Use everything you learned from the previous models to create a model that incorporates embedding and a bidirectional rnn into one model."
   ]
  },
  {
   "cell_type": "code",
   "execution_count": 15,
   "metadata": {},
   "outputs": [
    {
     "name": "stdout",
     "output_type": "stream",
     "text": [
      "Final Model Loaded\n",
      "_________________________________________________________________\n",
      "Layer (type)                 Output Shape              Param #   \n",
      "=================================================================\n",
      "input_layer (InputLayer)     (None, 21)                0         \n",
      "_________________________________________________________________\n",
      "embedding (Embedding)        (None, 21, 128)           25472     \n",
      "_________________________________________________________________\n",
      "bidirectional_3 (Bidirection (None, 21, 256)           197376    \n",
      "_________________________________________________________________\n",
      "time_distributed_8 (TimeDist (None, 21, 344)           88408     \n",
      "=================================================================\n",
      "Total params: 311,256\n",
      "Trainable params: 311,256\n",
      "Non-trainable params: 0\n",
      "_________________________________________________________________\n",
      "Train on 110288 samples, validate on 27573 samples\n",
      "Epoch 1/10\n",
      "110288/110288 [==============================] - 19s 174us/step - loss: 1.8658 - acc: 0.6067 - val_loss: nan - val_acc: 0.7774\n",
      "Epoch 2/10\n",
      "110288/110288 [==============================] - 18s 167us/step - loss: 0.5927 - acc: 0.8280 - val_loss: nan - val_acc: 0.8706\n",
      "Epoch 3/10\n",
      "110288/110288 [==============================] - 18s 168us/step - loss: 0.3466 - acc: 0.8948 - val_loss: nan - val_acc: 0.9151\n",
      "Epoch 4/10\n",
      "110288/110288 [==============================] - 19s 168us/step - loss: 0.2460 - acc: 0.9261 - val_loss: nan - val_acc: 0.9334\n",
      "Epoch 5/10\n",
      "110288/110288 [==============================] - 19s 168us/step - loss: 0.1921 - acc: 0.9430 - val_loss: nan - val_acc: 0.9488\n",
      "Epoch 6/10\n",
      "110288/110288 [==============================] - 19s 168us/step - loss: 0.1575 - acc: 0.9535 - val_loss: nan - val_acc: 0.9512\n",
      "Epoch 7/10\n",
      "110288/110288 [==============================] - 18s 168us/step - loss: 0.1337 - acc: 0.9609 - val_loss: nan - val_acc: 0.9617\n",
      "Epoch 8/10\n",
      "110288/110288 [==============================] - 19s 168us/step - loss: 0.1185 - acc: 0.9650 - val_loss: nan - val_acc: 0.9651\n",
      "Epoch 9/10\n",
      "110288/110288 [==============================] - 18s 168us/step - loss: 0.1047 - acc: 0.9692 - val_loss: nan - val_acc: 0.9683\n",
      "Epoch 10/10\n",
      "110288/110288 [==============================] - 18s 167us/step - loss: 0.0943 - acc: 0.9722 - val_loss: nan - val_acc: 0.9711\n",
      "new jersey est parfois calme pendant l' automne et il est neigeux en avril <PAD> <PAD> <PAD> <PAD> <PAD> <PAD> <PAD>\n"
     ]
    }
   ],
   "source": [
    "def model_final(input_shape, output_sequence_length, english_vocab_size, french_vocab_size):\n",
    "    \"\"\"\n",
    "    Build and train a model that incorporates embedding, encoder-decoder, and bidirectional RNN on x and y\n",
    "    :param input_shape: Tuple of input shape\n",
    "    :param output_sequence_length: Length of output sequence\n",
    "    :param english_vocab_size: Number of unique English words in the dataset\n",
    "    :param french_vocab_size: Number of unique French words in the dataset\n",
    "    :return: Keras model built, but not trained\n",
    "    \"\"\"\n",
    "    learning_rate = 2e-3\n",
    "    \n",
    "    inputs = Input(shape=input_shape[1:], name=\"input_layer\")\n",
    "    embeeding_layer = Embedding(english_vocab_size, 128, input_length=output_sequence_length, name=\"embedding\")\n",
    "    \n",
    "    embedding_output = embeeding_layer(inputs)\n",
    "    gru_layer = GRU(128, return_sequences=True, name=\"GRU\")\n",
    "    gru_output = Bidirectional(gru_layer)(embedding_output)\n",
    "    \n",
    "    output = TimeDistributed(Dense(french_vocab_size, activation=\"softmax\", name=\"Dense\"))(gru_output)\n",
    "    \n",
    "    model = Model(inputs, output)\n",
    "    \n",
    "    model.compile(loss=sparse_categorical_crossentropy,\n",
    "                  optimizer=Adam(learning_rate),\n",
    "                  metrics=['accuracy'])\n",
    "    \n",
    "    return model\n",
    "\n",
    "tests.test_model_final(model_final)\n",
    "\n",
    "# TODO: Reshape the input\n",
    "tmp_x = pad(preproc_english_sentences, max_french_sequence_length)\n",
    "tmp_x = tmp_x.reshape((-1, preproc_french_sentences.shape[-2]))\n",
    "\n",
    "# Train the neural network\n",
    "final_model = model_final(\n",
    "    tmp_x.shape,\n",
    "    max_french_sequence_length,\n",
    "    english_vocab_size,\n",
    "    french_vocab_size)\n",
    "\n",
    "print('Final Model Loaded')\n",
    "\n",
    "final_model.summary()\n",
    "\n",
    "# TODO: Train the final model\n",
    "\n",
    "final_model.fit(tmp_x, preproc_french_sentences, batch_size=512, epochs=10, validation_split=0.2)\n",
    "\n",
    "# Print prediction(s)\n",
    "print(logits_to_text(final_model.predict(tmp_x[:1])[0], french_tokenizer))"
   ]
  },
  {
   "cell_type": "markdown",
   "metadata": {},
   "source": [
    "## Prediction (IMPLEMENTATION)"
   ]
  },
  {
   "cell_type": "code",
   "execution_count": 16,
   "metadata": {},
   "outputs": [
    {
     "name": "stdout",
     "output_type": "stream",
     "text": [
      "Train on 110288 samples, validate on 27573 samples\n",
      "Epoch 1/20\n",
      "110288/110288 [==============================] - 19s 175us/step - loss: 1.7957 - acc: 0.6232 - val_loss: nan - val_acc: 0.7918\n",
      "Epoch 2/20\n",
      "110288/110288 [==============================] - 18s 167us/step - loss: 0.5537 - acc: 0.8390 - val_loss: nan - val_acc: 0.8755\n",
      "Epoch 3/20\n",
      "110288/110288 [==============================] - 19s 168us/step - loss: 0.3269 - acc: 0.9010 - val_loss: nan - val_acc: 0.9193\n",
      "Epoch 4/20\n",
      "110288/110288 [==============================] - 18s 167us/step - loss: 0.2345 - acc: 0.9296 - val_loss: nan - val_acc: 0.9381\n",
      "Epoch 5/20\n",
      "110288/110288 [==============================] - 18s 168us/step - loss: 0.1844 - acc: 0.9454 - val_loss: nan - val_acc: 0.9492\n",
      "Epoch 6/20\n",
      "110288/110288 [==============================] - 19s 168us/step - loss: 0.1521 - acc: 0.9551 - val_loss: nan - val_acc: 0.9555\n",
      "Epoch 7/20\n",
      "110288/110288 [==============================] - 18s 167us/step - loss: 0.1328 - acc: 0.9607 - val_loss: nan - val_acc: 0.9618\n",
      "Epoch 8/20\n",
      "110288/110288 [==============================] - 18s 166us/step - loss: 0.1156 - acc: 0.9657 - val_loss: nan - val_acc: 0.9648\n",
      "Epoch 9/20\n",
      "110288/110288 [==============================] - 18s 167us/step - loss: 0.1020 - acc: 0.9699 - val_loss: nan - val_acc: 0.9687\n",
      "Epoch 10/20\n",
      "110288/110288 [==============================] - 18s 166us/step - loss: 0.0928 - acc: 0.9724 - val_loss: nan - val_acc: 0.9707\n",
      "Epoch 11/20\n",
      "110288/110288 [==============================] - 18s 166us/step - loss: 0.0859 - acc: 0.9744 - val_loss: nan - val_acc: 0.9713\n",
      "Epoch 12/20\n",
      "110288/110288 [==============================] - 18s 167us/step - loss: 0.0799 - acc: 0.9761 - val_loss: nan - val_acc: 0.9727\n",
      "Epoch 13/20\n",
      "110288/110288 [==============================] - 18s 166us/step - loss: 0.0746 - acc: 0.9776 - val_loss: nan - val_acc: 0.9736\n",
      "Epoch 14/20\n",
      "110288/110288 [==============================] - 18s 167us/step - loss: 0.0719 - acc: 0.9784 - val_loss: nan - val_acc: 0.9748\n",
      "Epoch 15/20\n",
      "110288/110288 [==============================] - 18s 167us/step - loss: 0.0667 - acc: 0.9799 - val_loss: nan - val_acc: 0.9755\n",
      "Epoch 16/20\n",
      "110288/110288 [==============================] - 18s 166us/step - loss: 0.0645 - acc: 0.9804 - val_loss: nan - val_acc: 0.9765\n",
      "Epoch 17/20\n",
      "110288/110288 [==============================] - 18s 166us/step - loss: 0.0626 - acc: 0.9812 - val_loss: nan - val_acc: 0.9764\n",
      "Epoch 18/20\n",
      "110288/110288 [==============================] - 18s 166us/step - loss: 0.0586 - acc: 0.9822 - val_loss: nan - val_acc: 0.9780\n",
      "Epoch 19/20\n",
      "110288/110288 [==============================] - 18s 167us/step - loss: 0.0558 - acc: 0.9829 - val_loss: nan - val_acc: 0.9781\n",
      "Epoch 20/20\n",
      "110288/110288 [==============================] - 18s 166us/step - loss: 0.0528 - acc: 0.9838 - val_loss: nan - val_acc: 0.9780\n",
      "Sample 1:\n",
      "il a vu un vieux camion jaune <PAD> <PAD> <PAD> <PAD> <PAD> <PAD> <PAD> <PAD> <PAD> <PAD> <PAD> <PAD> <PAD> <PAD>\n",
      "Il a vu un vieux camion jaune\n",
      "Sample 2:\n",
      "new jersey est parfois calme pendant l' automne et il est neigeux en avril <PAD> <PAD> <PAD> <PAD> <PAD> <PAD> <PAD>\n",
      "new jersey est parfois calme pendant l' automne et il est neigeux en avril <PAD> <PAD> <PAD> <PAD> <PAD> <PAD> <PAD>\n"
     ]
    }
   ],
   "source": [
    "def final_predictions(x, y, x_tk, y_tk):\n",
    "    \"\"\"\n",
    "    Gets predictions using the final model\n",
    "    :param x: Preprocessed English data\n",
    "    :param y: Preprocessed French data\n",
    "    :param x_tk: English tokenizer\n",
    "    :param y_tk: French tokenizer\n",
    "    \"\"\"\n",
    "    # TODO: Train neural network using model_final\n",
    "    x = pad(x, max_french_sequence_length)\n",
    "    x = x.reshape((-1, preproc_french_sentences.shape[-2]))\n",
    "\n",
    "    # Train the neural network\n",
    "    model = model_final(x.shape, max_french_sequence_length, english_vocab_size, french_vocab_size)\n",
    "    \n",
    "    model.fit(x, y, batch_size=512, epochs=20, validation_split=0.2)\n",
    "    \n",
    "    ## DON'T EDIT ANYTHING BELOW THIS LINE\n",
    "    y_id_to_word = {value: key for key, value in y_tk.word_index.items()}\n",
    "    y_id_to_word[0] = '<PAD>'\n",
    "\n",
    "    sentence = 'he saw a old yellow truck'\n",
    "    sentence = [x_tk.word_index[word] for word in sentence.split()]\n",
    "    sentence = pad_sequences([sentence], maxlen=x.shape[-1], padding='post')\n",
    "    \n",
    "    sentences = np.array([sentence[0], x[0]])\n",
    "    predictions = model.predict(sentences, len(sentences))\n",
    "\n",
    "    print('Sample 1:')\n",
    "    print(' '.join([y_id_to_word[np.argmax(x)] for x in predictions[0]]))\n",
    "    print('Il a vu un vieux camion jaune')\n",
    "    print('Sample 2:')\n",
    "    print(' '.join([y_id_to_word[np.argmax(x)] for x in predictions[1]]))\n",
    "    print(' '.join([y_id_to_word[np.max(x)] for x in y[0]]))\n",
    "\n",
    "\n",
    "final_predictions(preproc_english_sentences, preproc_french_sentences, english_tokenizer, french_tokenizer)"
   ]
  },
  {
   "cell_type": "code",
   "execution_count": 17,
   "metadata": {},
   "outputs": [],
   "source": [
    "def generate_predicions(sentence, english_tokenizer, french_tokenizer):\n",
    "    sentence = [english_tokenizer.word_index[word] for word in sentence.split()]\n",
    "    sentence = pad_sequences([sentence], maxlen=21, padding='post')\n",
    "    \n",
    "    y_id_to_word = {value: key for key, value in french_tokenizer.word_index.items()}\n",
    "    y_id_to_word[0] = '<PAD>'\n",
    "    \n",
    "    sentences = np.array([sentence[0]])\n",
    "    predictions = final_model.predict(sentences, len(sentences))\n",
    "\n",
    "    print(' '.join([y_id_to_word[np.argmax(x)] for x in predictions[0] if y_id_to_word[np.argmax(x)] != '<PAD>']))"
   ]
  },
  {
   "cell_type": "code",
   "execution_count": 18,
   "metadata": {},
   "outputs": [
    {
     "name": "stdout",
     "output_type": "stream",
     "text": [
      "pourquoi elle déteste les poires et aime les mangues\n"
     ]
    }
   ],
   "source": [
    "generate_predicions(\"why she dislikes pears and he likes mangoes\", english_tokenizer, french_tokenizer)"
   ]
  },
  {
   "cell_type": "markdown",
   "metadata": {},
   "source": [
    "## Submission\n",
    "When you're ready to submit, complete the following steps:\n",
    "1. Review the [rubric](https://review.udacity.com/#!/rubrics/1004/view) to ensure your submission meets all requirements to pass\n",
    "2. Generate an HTML version of this notebook\n",
    "\n",
    "  - Run the next cell to attempt automatic generation (this is the recommended method in Workspaces)\n",
    "  - Navigate to **FILE -> Download as -> HTML (.html)**\n",
    "  - Manually generate a copy using `nbconvert` from your shell terminal\n",
    "```\n",
    "$ pip install nbconvert\n",
    "$ python -m nbconvert machine_translation.ipynb\n",
    "```\n",
    "  \n",
    "3. Submit the project\n",
    "\n",
    "  - If you are in a Workspace, simply click the \"Submit Project\" button (bottom towards the right)\n",
    "  \n",
    "  - Otherwise, add the following files into a zip archive and submit them \n",
    "  - `helper.py`\n",
    "  - `machine_translation.ipynb`\n",
    "  - `machine_translation.html`\n",
    "    - You can export the notebook by navigating to **File -> Download as -> HTML (.html)**."
   ]
  },
  {
   "cell_type": "markdown",
   "metadata": {},
   "source": [
    "### Generate the html\n",
    "\n",
    "**Save your notebook before running the next cell to generate the HTML output.** Then submit your project."
   ]
  },
  {
   "cell_type": "code",
   "execution_count": 19,
   "metadata": {},
   "outputs": [
    {
     "data": {
      "text/plain": [
       "['[NbConvertApp] Converting notebook machine_translation.ipynb to html',\n",
       " '[NbConvertApp] Writing 384454 bytes to machine_translation.html',\n",
       " '[NbConvertApp] Converting notebook machine_translation-zh.ipynb to html',\n",
       " '[NbConvertApp] Writing 328614 bytes to machine_translation-zh.html']"
      ]
     },
     "execution_count": 19,
     "metadata": {},
     "output_type": "execute_result"
    }
   ],
   "source": [
    "# Save before you run this cell!\n",
    "!!jupyter nbconvert *.ipynb"
   ]
  },
  {
   "cell_type": "markdown",
   "metadata": {},
   "source": [
    "## Optional Enhancements\n",
    "\n",
    "This project focuses on learning various network architectures for machine translation, but we don't evaluate the models according to best practices by splitting the data into separate test & training sets -- so the model accuracy is overstated. Use the [`sklearn.model_selection.train_test_split()`](http://scikit-learn.org/stable/modules/generated/sklearn.model_selection.train_test_split.html) function to create separate training & test datasets, then retrain each of the models using only the training set and evaluate the prediction accuracy using the hold out test set. Does the \"best\" model change?"
   ]
  }
 ],
 "metadata": {
  "kernelspec": {
   "display_name": "Python 3",
   "language": "python",
   "name": "python3"
  },
  "language_info": {
   "codemirror_mode": {
    "name": "ipython",
    "version": 3
   },
   "file_extension": ".py",
   "mimetype": "text/x-python",
   "name": "python",
   "nbconvert_exporter": "python",
   "pygments_lexer": "ipython3",
   "version": "3.6.3"
  }
 },
 "nbformat": 4,
 "nbformat_minor": 1
}
